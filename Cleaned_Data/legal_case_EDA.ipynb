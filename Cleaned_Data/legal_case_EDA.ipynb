{
 "cells": [
  {
   "cell_type": "code",
   "execution_count": 1,
   "id": "6e200168",
   "metadata": {},
   "outputs": [],
   "source": [
    "import pandas as pd\n",
    "import matplotlib.pyplot as plt\n"
   ]
  },
  {
   "cell_type": "code",
   "execution_count": 2,
   "id": "571e7912",
   "metadata": {},
   "outputs": [],
   "source": [
    "import seaborn as sns"
   ]
  },
  {
   "cell_type": "code",
   "execution_count": 37,
   "id": "dca31768",
   "metadata": {},
   "outputs": [
    {
     "name": "stderr",
     "output_type": "stream",
     "text": [
      "[nltk_data] Downloading package punkt to\n",
      "[nltk_data]     C:\\Users\\nnd0028\\AppData\\Roaming\\nltk_data...\n",
      "[nltk_data]   Unzipping tokenizers\\punkt.zip.\n"
     ]
    },
    {
     "data": {
      "text/plain": [
       "True"
      ]
     },
     "execution_count": 37,
     "metadata": {},
     "output_type": "execute_result"
    }
   ],
   "source": [
    "import nltk \n",
    "from nltk.corpus import stopwords\n",
    "nltk.download('punkt')"
   ]
  },
  {
   "cell_type": "markdown",
   "id": "ccba505c",
   "metadata": {},
   "source": [
    "# 1. Data Preparation"
   ]
  },
  {
   "cell_type": "code",
   "execution_count": 19,
   "id": "892c64ef",
   "metadata": {},
   "outputs": [],
   "source": [
    "legal_df = pd.read_csv('opinion_dev.csv')"
   ]
  },
  {
   "cell_type": "code",
   "execution_count": 20,
   "id": "60a7a990",
   "metadata": {},
   "outputs": [
    {
     "name": "stdout",
     "output_type": "stream",
     "text": [
      "<class 'pandas.core.frame.DataFrame'>\n",
      "RangeIndex: 39929 entries, 0 to 39928\n",
      "Data columns (total 4 columns):\n",
      " #   Column      Non-Null Count  Dtype \n",
      "---  ------      --------------  ----- \n",
      " 0   DocumentId  39929 non-null  int64 \n",
      " 1   Postures    36188 non-null  object\n",
      " 2   HeadText    34738 non-null  object\n",
      " 3   Paragraph   39638 non-null  object\n",
      "dtypes: int64(1), object(3)\n",
      "memory usage: 1.2+ MB\n"
     ]
    }
   ],
   "source": [
    "legal_df.info()"
   ]
  },
  {
   "cell_type": "raw",
   "id": "a773c2d7",
   "metadata": {},
   "source": [
    "There are 39929 rows and 4 columns (DocumentId, Postures, HeadText, Paragraph). There are some missing values at  three last columns"
   ]
  },
  {
   "cell_type": "markdown",
   "id": "4be71445",
   "metadata": {},
   "source": [
    "# 1.1 Explore missing values"
   ]
  },
  {
   "cell_type": "code",
   "execution_count": 6,
   "id": "93cb76d3",
   "metadata": {},
   "outputs": [
    {
     "data": {
      "text/plain": [
       "<AxesSubplot:>"
      ]
     },
     "execution_count": 6,
     "metadata": {},
     "output_type": "execute_result"
    },
    {
     "data": {
      "image/png": "[encoded data removed]",
      "text/plain": [
       "<Figure size 1440x720 with 2 Axes>"
      ]
     },
     "metadata": {
      "needs_background": "light"
     },
     "output_type": "display_data"
    }
   ],
   "source": [
    "plt.figure(figsize = (20,10))\n",
    "sns.heatmap(legal_df.isnull().transpose())"
   ]
  },
  {
   "cell_type": "code",
   "execution_count": 7,
   "id": "2d62122e",
   "metadata": {},
   "outputs": [
    {
     "data": {
      "text/plain": [
       "False    36188\n",
       "True      3741\n",
       "Name: Postures, dtype: int64"
      ]
     },
     "execution_count": 7,
     "metadata": {},
     "output_type": "execute_result"
    }
   ],
   "source": [
    "#Missing values at Postures Column\n",
    "legal_df.Postures.isnull().value_counts()"
   ]
  },
  {
   "cell_type": "code",
   "execution_count": 8,
   "id": "db487a29",
   "metadata": {},
   "outputs": [
    {
     "data": {
      "text/plain": [
       "False    34738\n",
       "True      5191\n",
       "Name: HeadText, dtype: int64"
      ]
     },
     "execution_count": 8,
     "metadata": {},
     "output_type": "execute_result"
    }
   ],
   "source": [
    "# Missing values at HeadText Column\n",
    "legal_df.HeadText.isnull().value_counts()"
   ]
  },
  {
   "cell_type": "code",
   "execution_count": 9,
   "id": "caedb133",
   "metadata": {},
   "outputs": [
    {
     "data": {
      "text/plain": [
       "False    39638\n",
       "True       291\n",
       "Name: Paragraph, dtype: int64"
      ]
     },
     "execution_count": 9,
     "metadata": {},
     "output_type": "execute_result"
    }
   ],
   "source": [
    "#Missing Values at Paragraph column\n",
    "legal_df.Paragraph.isnull().value_counts()"
   ]
  },
  {
   "cell_type": "markdown",
   "id": "1813a2df",
   "metadata": {},
   "source": [
    "There are 110 missing text at both Postures and HeadText, 45 missing text at Paragraph. Since we will analyze text at Paragraph, missing text at Paragraph is not useful for the further process. Thus we will drop the rows where Paragraph has missing values.\n",
    "For missing text at HeadText, we replace 'Unknown'."
   ]
  },
  {
   "cell_type": "markdown",
   "id": "df854d00",
   "metadata": {},
   "source": [
    "# 1.2 Explore the labels from Head Text column"
   ]
  },
  {
   "cell_type": "code",
   "execution_count": 10,
   "id": "80c105a3",
   "metadata": {},
   "outputs": [],
   "source": [
    "headtext_label_w_frq = pd.DataFrame({'HeadText':legal_df.HeadText.value_counts().index, 'frequency': legal_df.HeadText.value_counts().values}, index=list(range(17473)))"
   ]
  },
  {
   "cell_type": "code",
   "execution_count": 11,
   "id": "b7ef88c1",
   "metadata": {
    "scrolled": false
   },
   "outputs": [
    {
     "data": {
      "text/html": [
       "<div>\n",
       "<style scoped>\n",
       "    .dataframe tbody tr th:only-of-type {\n",
       "        vertical-align: middle;\n",
       "    }\n",
       "\n",
       "    .dataframe tbody tr th {\n",
       "        vertical-align: top;\n",
       "    }\n",
       "\n",
       "    .dataframe thead th {\n",
       "        text-align: right;\n",
       "    }\n",
       "</style>\n",
       "<table border=\"1\" class=\"dataframe\">\n",
       "  <thead>\n",
       "    <tr style=\"text-align: right;\">\n",
       "      <th></th>\n",
       "      <th>HeadText</th>\n",
       "      <th>frequency</th>\n",
       "    </tr>\n",
       "  </thead>\n",
       "  <tbody>\n",
       "    <tr>\n",
       "      <th>0</th>\n",
       "      <td>conclusion</td>\n",
       "      <td>1205</td>\n",
       "    </tr>\n",
       "    <tr>\n",
       "      <th>1</th>\n",
       "      <td>opinion</td>\n",
       "      <td>668</td>\n",
       "    </tr>\n",
       "    <tr>\n",
       "      <th>2</th>\n",
       "      <td>discussion</td>\n",
       "      <td>588</td>\n",
       "    </tr>\n",
       "    <tr>\n",
       "      <th>3</th>\n",
       "      <td>background</td>\n",
       "      <td>530</td>\n",
       "    </tr>\n",
       "    <tr>\n",
       "      <th>4</th>\n",
       "      <td>ii.</td>\n",
       "      <td>500</td>\n",
       "    </tr>\n",
       "    <tr>\n",
       "      <th>5</th>\n",
       "      <td>i.</td>\n",
       "      <td>494</td>\n",
       "    </tr>\n",
       "    <tr>\n",
       "      <th>6</th>\n",
       "      <td>standard of review</td>\n",
       "      <td>468</td>\n",
       "    </tr>\n",
       "    <tr>\n",
       "      <th>7</th>\n",
       "      <td>i. background</td>\n",
       "      <td>456</td>\n",
       "    </tr>\n",
       "    <tr>\n",
       "      <th>8</th>\n",
       "      <td>analysis</td>\n",
       "      <td>429</td>\n",
       "    </tr>\n",
       "    <tr>\n",
       "      <th>9</th>\n",
       "      <td>iii.</td>\n",
       "      <td>366</td>\n",
       "    </tr>\n",
       "    <tr>\n",
       "      <th>10</th>\n",
       "      <td>iv. conclusion</td>\n",
       "      <td>342</td>\n",
       "    </tr>\n",
       "    <tr>\n",
       "      <th>11</th>\n",
       "      <td>memorandum and order</td>\n",
       "      <td>341</td>\n",
       "    </tr>\n",
       "    <tr>\n",
       "      <th>12</th>\n",
       "      <td>iii. conclusion</td>\n",
       "      <td>308</td>\n",
       "    </tr>\n",
       "    <tr>\n",
       "      <th>13</th>\n",
       "      <td>a.</td>\n",
       "      <td>300</td>\n",
       "    </tr>\n",
       "    <tr>\n",
       "      <th>14</th>\n",
       "      <td>decision &amp; order</td>\n",
       "      <td>295</td>\n",
       "    </tr>\n",
       "    <tr>\n",
       "      <th>15</th>\n",
       "      <td>b.</td>\n",
       "      <td>294</td>\n",
       "    </tr>\n",
       "    <tr>\n",
       "      <th>16</th>\n",
       "      <td>order</td>\n",
       "      <td>291</td>\n",
       "    </tr>\n",
       "    <tr>\n",
       "      <th>17</th>\n",
       "      <td>facts and procedural history</td>\n",
       "      <td>271</td>\n",
       "    </tr>\n",
       "    <tr>\n",
       "      <th>18</th>\n",
       "      <td>disposition</td>\n",
       "      <td>261</td>\n",
       "    </tr>\n",
       "    <tr>\n",
       "      <th>19</th>\n",
       "      <td>facts</td>\n",
       "      <td>252</td>\n",
       "    </tr>\n",
       "    <tr>\n",
       "      <th>20</th>\n",
       "      <td>i</td>\n",
       "      <td>252</td>\n",
       "    </tr>\n",
       "    <tr>\n",
       "      <th>21</th>\n",
       "      <td>ii</td>\n",
       "      <td>243</td>\n",
       "    </tr>\n",
       "    <tr>\n",
       "      <th>22</th>\n",
       "      <td>iii</td>\n",
       "      <td>203</td>\n",
       "    </tr>\n",
       "    <tr>\n",
       "      <th>23</th>\n",
       "      <td>factual and procedural background</td>\n",
       "      <td>201</td>\n",
       "    </tr>\n",
       "    <tr>\n",
       "      <th>24</th>\n",
       "      <td>iv.</td>\n",
       "      <td>178</td>\n",
       "    </tr>\n",
       "    <tr>\n",
       "      <th>25</th>\n",
       "      <td>a</td>\n",
       "      <td>170</td>\n",
       "    </tr>\n",
       "    <tr>\n",
       "      <th>26</th>\n",
       "      <td>b</td>\n",
       "      <td>165</td>\n",
       "    </tr>\n",
       "    <tr>\n",
       "      <th>27</th>\n",
       "      <td>memorandum opinion</td>\n",
       "      <td>158</td>\n",
       "    </tr>\n",
       "    <tr>\n",
       "      <th>28</th>\n",
       "      <td>a. standard of review</td>\n",
       "      <td>151</td>\n",
       "    </tr>\n",
       "    <tr>\n",
       "      <th>29</th>\n",
       "      <td>ii. discussion</td>\n",
       "      <td>143</td>\n",
       "    </tr>\n",
       "    <tr>\n",
       "      <th>30</th>\n",
       "      <td>ii. standard of review</td>\n",
       "      <td>138</td>\n",
       "    </tr>\n",
       "    <tr>\n",
       "      <th>31</th>\n",
       "      <td>iii. discussion</td>\n",
       "      <td>130</td>\n",
       "    </tr>\n",
       "    <tr>\n",
       "      <th>32</th>\n",
       "      <td>c.</td>\n",
       "      <td>129</td>\n",
       "    </tr>\n",
       "    <tr>\n",
       "      <th>33</th>\n",
       "      <td>ii. analysis</td>\n",
       "      <td>122</td>\n",
       "    </tr>\n",
       "    <tr>\n",
       "      <th>34</th>\n",
       "      <td>introduction</td>\n",
       "      <td>119</td>\n",
       "    </tr>\n",
       "    <tr>\n",
       "      <th>35</th>\n",
       "      <td>i. introduction</td>\n",
       "      <td>112</td>\n",
       "    </tr>\n",
       "    <tr>\n",
       "      <th>36</th>\n",
       "      <td>iii. analysis</td>\n",
       "      <td>111</td>\n",
       "    </tr>\n",
       "    <tr>\n",
       "      <th>37</th>\n",
       "      <td>v. conclusion</td>\n",
       "      <td>110</td>\n",
       "    </tr>\n",
       "    <tr>\n",
       "      <th>38</th>\n",
       "      <td>iv</td>\n",
       "      <td>105</td>\n",
       "    </tr>\n",
       "    <tr>\n",
       "      <th>39</th>\n",
       "      <td>memorandum</td>\n",
       "      <td>102</td>\n",
       "    </tr>\n",
       "    <tr>\n",
       "      <th>40</th>\n",
       "      <td>memorandum opinion and order</td>\n",
       "      <td>99</td>\n",
       "    </tr>\n",
       "    <tr>\n",
       "      <th>41</th>\n",
       "      <td>ii. legal standard</td>\n",
       "      <td>90</td>\n",
       "    </tr>\n",
       "    <tr>\n",
       "      <th>42</th>\n",
       "      <td>opinion</td>\n",
       "      <td>90</td>\n",
       "    </tr>\n",
       "    <tr>\n",
       "      <th>43</th>\n",
       "      <td>opinion and order</td>\n",
       "      <td>81</td>\n",
       "    </tr>\n",
       "    <tr>\n",
       "      <th>44</th>\n",
       "      <td>summary order</td>\n",
       "      <td>72</td>\n",
       "    </tr>\n",
       "    <tr>\n",
       "      <th>45</th>\n",
       "      <td>i. background</td>\n",
       "      <td>70</td>\n",
       "    </tr>\n",
       "    <tr>\n",
       "      <th>46</th>\n",
       "      <td>procedural history</td>\n",
       "      <td>67</td>\n",
       "    </tr>\n",
       "    <tr>\n",
       "      <th>47</th>\n",
       "      <td>c</td>\n",
       "      <td>63</td>\n",
       "    </tr>\n",
       "    <tr>\n",
       "      <th>48</th>\n",
       "      <td>2.</td>\n",
       "      <td>62</td>\n",
       "    </tr>\n",
       "    <tr>\n",
       "      <th>49</th>\n",
       "      <td>order and judgment</td>\n",
       "      <td>61</td>\n",
       "    </tr>\n",
       "    <tr>\n",
       "      <th>50</th>\n",
       "      <td>1.</td>\n",
       "      <td>60</td>\n",
       "    </tr>\n",
       "    <tr>\n",
       "      <th>51</th>\n",
       "      <td>v.</td>\n",
       "      <td>59</td>\n",
       "    </tr>\n",
       "    <tr>\n",
       "      <th>52</th>\n",
       "      <td>b. analysis</td>\n",
       "      <td>57</td>\n",
       "    </tr>\n",
       "    <tr>\n",
       "      <th>53</th>\n",
       "      <td>decree</td>\n",
       "      <td>56</td>\n",
       "    </tr>\n",
       "    <tr>\n",
       "      <th>54</th>\n",
       "      <td>i. factual and procedural background</td>\n",
       "      <td>56</td>\n",
       "    </tr>\n",
       "    <tr>\n",
       "      <th>55</th>\n",
       "      <td>iii. conclusion</td>\n",
       "      <td>55</td>\n",
       "    </tr>\n",
       "    <tr>\n",
       "      <th>56</th>\n",
       "      <td>factual background</td>\n",
       "      <td>52</td>\n",
       "    </tr>\n",
       "    <tr>\n",
       "      <th>57</th>\n",
       "      <td>iii. standard of review</td>\n",
       "      <td>51</td>\n",
       "    </tr>\n",
       "  </tbody>\n",
       "</table>\n",
       "</div>"
      ],
      "text/plain": [
       "                                HeadText  frequency\n",
       "0                             conclusion       1205\n",
       "1                                opinion        668\n",
       "2                             discussion        588\n",
       "3                             background        530\n",
       "4                                    ii.        500\n",
       "5                                     i.        494\n",
       "6                     standard of review        468\n",
       "7                          i. background        456\n",
       "8                               analysis        429\n",
       "9                                   iii.        366\n",
       "10                        iv. conclusion        342\n",
       "11                  memorandum and order        341\n",
       "12                       iii. conclusion        308\n",
       "13                                    a.        300\n",
       "14                      decision & order        295\n",
       "15                                    b.        294\n",
       "16                                 order        291\n",
       "17          facts and procedural history        271\n",
       "18                           disposition        261\n",
       "19                                 facts        252\n",
       "20                                     i        252\n",
       "21                                    ii        243\n",
       "22                                   iii        203\n",
       "23     factual and procedural background        201\n",
       "24                                   iv.        178\n",
       "25                                     a        170\n",
       "26                                     b        165\n",
       "27                    memorandum opinion        158\n",
       "28                 a. standard of review        151\n",
       "29                        ii. discussion        143\n",
       "30                ii. standard of review        138\n",
       "31                       iii. discussion        130\n",
       "32                                    c.        129\n",
       "33                          ii. analysis        122\n",
       "34                          introduction        119\n",
       "35                       i. introduction        112\n",
       "36                         iii. analysis        111\n",
       "37                         v. conclusion        110\n",
       "38                                    iv        105\n",
       "39                           memorandum         102\n",
       "40          memorandum opinion and order         99\n",
       "41                    ii. legal standard         90\n",
       "42                              opinion          90\n",
       "43                     opinion and order         81\n",
       "44                         summary order         72\n",
       "45                         i. background         70\n",
       "46                    procedural history         67\n",
       "47                                     c         63\n",
       "48                                    2.         62\n",
       "49                   order and judgment          61\n",
       "50                                    1.         60\n",
       "51                                    v.         59\n",
       "52                           b. analysis         57\n",
       "53                                decree         56\n",
       "54  i. factual and procedural background         56\n",
       "55                       iii. conclusion         55\n",
       "56                    factual background         52\n",
       "57               iii. standard of review         51"
      ]
     },
     "execution_count": 11,
     "metadata": {},
     "output_type": "execute_result"
    }
   ],
   "source": [
    "# Filter out labels that appear more that 50 times\n",
    "headtext_label_w_frq.loc[headtext_label_w_frq['frequency'] > 50, :]"
   ]
  },
  {
   "cell_type": "code",
   "execution_count": 21,
   "id": "b42806e8",
   "metadata": {},
   "outputs": [
    {
     "data": {
      "text/html": [
       "<div>\n",
       "<style scoped>\n",
       "    .dataframe tbody tr th:only-of-type {\n",
       "        vertical-align: middle;\n",
       "    }\n",
       "\n",
       "    .dataframe tbody tr th {\n",
       "        vertical-align: top;\n",
       "    }\n",
       "\n",
       "    .dataframe thead th {\n",
       "        text-align: right;\n",
       "    }\n",
       "</style>\n",
       "<table border=\"1\" class=\"dataframe\">\n",
       "  <thead>\n",
       "    <tr style=\"text-align: right;\">\n",
       "      <th></th>\n",
       "      <th>HeadText</th>\n",
       "      <th>frequency</th>\n",
       "    </tr>\n",
       "  </thead>\n",
       "  <tbody>\n",
       "    <tr>\n",
       "      <th>58</th>\n",
       "      <td>opinion of the court</td>\n",
       "      <td>50</td>\n",
       "    </tr>\n",
       "    <tr>\n",
       "      <th>59</th>\n",
       "      <td>decision</td>\n",
       "      <td>50</td>\n",
       "    </tr>\n",
       "    <tr>\n",
       "      <th>60</th>\n",
       "      <td>assignments of error</td>\n",
       "      <td>50</td>\n",
       "    </tr>\n",
       "    <tr>\n",
       "      <th>61</th>\n",
       "      <td>iv. conclusion</td>\n",
       "      <td>49</td>\n",
       "    </tr>\n",
       "    <tr>\n",
       "      <th>62</th>\n",
       "      <td>d.</td>\n",
       "      <td>49</td>\n",
       "    </tr>\n",
       "    <tr>\n",
       "      <th>...</th>\n",
       "      <td>...</td>\n",
       "      <td>...</td>\n",
       "    </tr>\n",
       "    <tr>\n",
       "      <th>177</th>\n",
       "      <td>ii. legal standards</td>\n",
       "      <td>10</td>\n",
       "    </tr>\n",
       "    <tr>\n",
       "      <th>178</th>\n",
       "      <td>a. qualifications and opinion</td>\n",
       "      <td>10</td>\n",
       "    </tr>\n",
       "    <tr>\n",
       "      <th>179</th>\n",
       "      <td>ii</td>\n",
       "      <td>10</td>\n",
       "    </tr>\n",
       "    <tr>\n",
       "      <th>180</th>\n",
       "      <td>1. applicable law</td>\n",
       "      <td>10</td>\n",
       "    </tr>\n",
       "    <tr>\n",
       "      <th>181</th>\n",
       "      <td>memorandum order</td>\n",
       "      <td>10</td>\n",
       "    </tr>\n",
       "  </tbody>\n",
       "</table>\n",
       "<p>124 rows × 2 columns</p>\n",
       "</div>"
      ],
      "text/plain": [
       "                          HeadText  frequency\n",
       "58            opinion of the court         50\n",
       "59                        decision         50\n",
       "60            assignments of error         50\n",
       "61                  iv. conclusion         49\n",
       "62                              d.         49\n",
       "..                             ...        ...\n",
       "177            ii. legal standards         10\n",
       "178  a. qualifications and opinion         10\n",
       "179                            ii          10\n",
       "180              1. applicable law         10\n",
       "181               memorandum order         10\n",
       "\n",
       "[124 rows x 2 columns]"
      ]
     },
     "execution_count": 21,
     "metadata": {},
     "output_type": "execute_result"
    }
   ],
   "source": [
    "# Filter the labels that appears from 10 to 50 times\n",
    "headtext_label_w_frq.loc[(headtext_label_w_frq.frequency <= 50) & (headtext_label_w_frq.frequency >= 10) , :]"
   ]
  },
  {
   "cell_type": "code",
   "execution_count": 22,
   "id": "d925abc5",
   "metadata": {},
   "outputs": [
    {
     "data": {
      "text/html": [
       "<div>\n",
       "<style scoped>\n",
       "    .dataframe tbody tr th:only-of-type {\n",
       "        vertical-align: middle;\n",
       "    }\n",
       "\n",
       "    .dataframe tbody tr th {\n",
       "        vertical-align: top;\n",
       "    }\n",
       "\n",
       "    .dataframe thead th {\n",
       "        text-align: right;\n",
       "    }\n",
       "</style>\n",
       "<table border=\"1\" class=\"dataframe\">\n",
       "  <thead>\n",
       "    <tr style=\"text-align: right;\">\n",
       "      <th></th>\n",
       "      <th>HeadText</th>\n",
       "      <th>frequency</th>\n",
       "    </tr>\n",
       "  </thead>\n",
       "  <tbody>\n",
       "    <tr>\n",
       "      <th>182</th>\n",
       "      <td>ii. sufficiency of the evidence</td>\n",
       "      <td>9</td>\n",
       "    </tr>\n",
       "    <tr>\n",
       "      <th>183</th>\n",
       "      <td>statement of facts and procedural history</td>\n",
       "      <td>9</td>\n",
       "    </tr>\n",
       "    <tr>\n",
       "      <th>184</th>\n",
       "      <td>ii. procedural background</td>\n",
       "      <td>9</td>\n",
       "    </tr>\n",
       "    <tr>\n",
       "      <th>185</th>\n",
       "      <td>memorandum opinion and order</td>\n",
       "      <td>9</td>\n",
       "    </tr>\n",
       "    <tr>\n",
       "      <th>186</th>\n",
       "      <td>¶ 2 i. background</td>\n",
       "      <td>9</td>\n",
       "    </tr>\n",
       "    <tr>\n",
       "      <th>...</th>\n",
       "      <td>...</td>\n",
       "      <td>...</td>\n",
       "    </tr>\n",
       "    <tr>\n",
       "      <th>17468</th>\n",
       "      <td>4. employment records</td>\n",
       "      <td>1</td>\n",
       "    </tr>\n",
       "    <tr>\n",
       "      <th>17469</th>\n",
       "      <td>5. conclusion on flsa liability</td>\n",
       "      <td>1</td>\n",
       "    </tr>\n",
       "    <tr>\n",
       "      <th>17470</th>\n",
       "      <td>6. conclusion on rimwa liability</td>\n",
       "      <td>1</td>\n",
       "    </tr>\n",
       "    <tr>\n",
       "      <th>17471</th>\n",
       "      <td>a. history of barry farm</td>\n",
       "      <td>1</td>\n",
       "    </tr>\n",
       "    <tr>\n",
       "      <th>17472</th>\n",
       "      <td>violent or otherwise threatening criminal acti...</td>\n",
       "      <td>1</td>\n",
       "    </tr>\n",
       "  </tbody>\n",
       "</table>\n",
       "<p>17291 rows × 2 columns</p>\n",
       "</div>"
      ],
      "text/plain": [
       "                                                HeadText  frequency\n",
       "182                      ii. sufficiency of the evidence          9\n",
       "183            statement of facts and procedural history          9\n",
       "184                            ii. procedural background          9\n",
       "185                        memorandum opinion and order           9\n",
       "186                                    ¶ 2 i. background          9\n",
       "...                                                  ...        ...\n",
       "17468                              4. employment records          1\n",
       "17469                    5. conclusion on flsa liability          1\n",
       "17470                   6. conclusion on rimwa liability          1\n",
       "17471                           a. history of barry farm          1\n",
       "17472  violent or otherwise threatening criminal acti...          1\n",
       "\n",
       "[17291 rows x 2 columns]"
      ]
     },
     "execution_count": 22,
     "metadata": {},
     "output_type": "execute_result"
    }
   ],
   "source": [
    "headtext_label_w_frq.loc[headtext_label_w_frq.frequency < 10,:]"
   ]
  },
  {
   "cell_type": "markdown",
   "id": "5a2d5bd1",
   "metadata": {},
   "source": [
    "Overall, the most frequencies labels in Head Text column is \"introduction\", \"conclusion\", \"opinion\", \"background\", \"discussion\", \"analysis\", \"standard of review\", \"decision\", \"order\"...... Even though there are many other phrases that looks like different from the terms listed above, their meaning are same as these words. "
   ]
  },
  {
   "cell_type": "markdown",
   "id": "75c82b8c",
   "metadata": {},
   "source": [
    "# 1.3 Remove redundant character in HeadText"
   ]
  },
  {
   "cell_type": "code",
   "execution_count": 23,
   "id": "12422b63",
   "metadata": {},
   "outputs": [],
   "source": [
    "import string\n",
    "alphabet_string = string.ascii_lowercase\n",
    "alphabet_lists = list(alphabet_string)"
   ]
  },
  {
   "cell_type": "code",
   "execution_count": 24,
   "id": "86bde07a",
   "metadata": {},
   "outputs": [],
   "source": [
    "# Create a list of redundant characters\n",
    "redundants = []\n",
    "for a in alphabet_lists:\n",
    "    redundants.append(a + '.')\n",
    "redundants.append('.')\n",
    "redundants.append('i.')\n",
    "redundants.append('ii.')\n",
    "redundants.append('iii.')\n",
    "redundants.append('iv.')\n",
    "redundants.append('v.')\n",
    "redundants.append('vi.')\n",
    "redundants.append('vii.')\n",
    "redundants.append('viii.')\n",
    "redundants.append('ix.')\n",
    "redundants.append('x.')\n",
    "redundants.append('i')\n",
    "redundants.append('ii')\n",
    "redundants.append('iii')\n",
    "redundants.append('iv')\n",
    "redundants.append('v')\n",
    "redundants.append('vi')\n",
    "redundants.append('vii')\n",
    "redundants.append('viii')\n",
    "redundants.append('ix')\n",
    "redundants.append('x')\n"
   ]
  },
  {
   "cell_type": "code",
   "execution_count": 25,
   "id": "d6edc3c9",
   "metadata": {},
   "outputs": [],
   "source": [
    "def eliminate_reduandants(text):\n",
    "    try:\n",
    "        tokens = nltk.word_tokenize(text, language = 'english')\n",
    "        for char in redundants:     \n",
    "            if char in tokens:\n",
    "                tokens.remove(char)    \n",
    "        label = ' '.join([str(item) for item in tokens])\n",
    "    except TypeError:\n",
    "        return 'N/A'\n",
    "    return label\n"
   ]
  },
  {
   "cell_type": "markdown",
   "id": "bbc865d5",
   "metadata": {},
   "source": [
    "# 1.4 Grouping Head Text"
   ]
  },
  {
   "cell_type": "code",
   "execution_count": 26,
   "id": "b1ea4308",
   "metadata": {},
   "outputs": [],
   "source": [
    "# These are 6 main parts in a legal case\n",
    "procedural_history = ['history']\n",
    "facts = ['facts','fact', 'background', 'factual', 'introduction']\n",
    "issues = ['issues', 'standard of reviews', 'standard of review']\n",
    "rules = ['rule','rules','laws', 'law']\n",
    "analysis = ['discussion', 'analysis']\n",
    "order_decision = ['conclusion', 'order', 'orders', 'opinion', 'opinions'] "
   ]
  },
  {
   "cell_type": "code",
   "execution_count": 27,
   "id": "5edabac0",
   "metadata": {},
   "outputs": [],
   "source": [
    "def get_label(text):\n",
    "    lowercase_text = text.lower()\n",
    "    for word in procedural_history:\n",
    "        if word in lowercase_text:\n",
    "            return 'procedural history'\n",
    "        \n",
    "    for word in facts:\n",
    "        #in raw headtext, there is \"facts and procedural history\".\n",
    "        #it is clasified as \"procedural history\", not \"facts\"\n",
    "        if word in lowercase_text:\n",
    "            return 'facts'\n",
    "       \n",
    "    for word in issues:\n",
    "        if word in lowercase_text:\n",
    "            return 'issues'\n",
    "        \n",
    "    for word in rules:\n",
    "        if word in lowercase_text:\n",
    "            return 'rules'\n",
    "        \n",
    "    for word in analysis:\n",
    "        if word in lowercase_text:\n",
    "            return 'reasoning/analysis'\n",
    "        \n",
    "    for word in order_decision:\n",
    "        if word in lowercase_text:\n",
    "            return \"oder and decision\"\n",
    "        else:\n",
    "            return \"other\"\n",
    "    \n"
   ]
  },
  {
   "cell_type": "code",
   "execution_count": 28,
   "id": "ef59e063",
   "metadata": {},
   "outputs": [],
   "source": [
    "defined_labels = ['procedural history', 'facts', 'issues', 'rules', 'reasoning/analysis',\"oder and decision\"]"
   ]
  },
  {
   "cell_type": "code",
   "execution_count": 29,
   "id": "fbfafb8b",
   "metadata": {},
   "outputs": [],
   "source": [
    "#Group other than \"defined_labels\" in to \"other\" group\n",
    "def other_group_label(text):\n",
    "    if text in defined_labels:\n",
    "        return text\n",
    "    else:\n",
    "        return \"other\""
   ]
  },
  {
   "cell_type": "code",
   "execution_count": 30,
   "id": "c0b05eaa",
   "metadata": {},
   "outputs": [],
   "source": [
    "#Create a copy of legal dataframe\n",
    "legal_df_copy = legal_df.copy()"
   ]
  },
  {
   "cell_type": "code",
   "execution_count": 38,
   "id": "b151f801",
   "metadata": {},
   "outputs": [],
   "source": [
    "#Now apply three functions above to create 6 labels\n",
    "labels = []\n",
    "for t in legal_df_copy['HeadText']:\n",
    "    labels.append(eliminate_reduandants(t))"
   ]
  },
  {
   "cell_type": "code",
   "execution_count": 39,
   "id": "da4da63b",
   "metadata": {},
   "outputs": [],
   "source": [
    "def_label = []\n",
    "for l in labels:\n",
    "    def_label.append(get_label(l))"
   ]
  },
  {
   "cell_type": "code",
   "execution_count": 40,
   "id": "7c9d7773",
   "metadata": {},
   "outputs": [],
   "source": [
    "final_labels = []\n",
    "for l in def_label:\n",
    "    final_labels.append(other_group_label(l))"
   ]
  },
  {
   "cell_type": "code",
   "execution_count": 43,
   "id": "318b07d8",
   "metadata": {},
   "outputs": [],
   "source": [
    "series_label = pd.Series(final_labels)"
   ]
  },
  {
   "cell_type": "code",
   "execution_count": 44,
   "id": "493595c5",
   "metadata": {},
   "outputs": [],
   "source": [
    "legal_df_copy['HeadText'] = series_label"
   ]
  },
  {
   "cell_type": "code",
   "execution_count": 45,
   "id": "740e522f",
   "metadata": {},
   "outputs": [
    {
     "data": {
      "text/html": [
       "<div>\n",
       "<style scoped>\n",
       "    .dataframe tbody tr th:only-of-type {\n",
       "        vertical-align: middle;\n",
       "    }\n",
       "\n",
       "    .dataframe tbody tr th {\n",
       "        vertical-align: top;\n",
       "    }\n",
       "\n",
       "    .dataframe thead th {\n",
       "        text-align: right;\n",
       "    }\n",
       "</style>\n",
       "<table border=\"1\" class=\"dataframe\">\n",
       "  <thead>\n",
       "    <tr style=\"text-align: right;\">\n",
       "      <th></th>\n",
       "      <th>DocumentId</th>\n",
       "      <th>Postures</th>\n",
       "      <th>HeadText</th>\n",
       "      <th>Paragraph</th>\n",
       "    </tr>\n",
       "  </thead>\n",
       "  <tbody>\n",
       "    <tr>\n",
       "      <th>0</th>\n",
       "      <td>31944</td>\n",
       "      <td>On Appeal</td>\n",
       "      <td>other</td>\n",
       "      <td>Plaintiff Dwight Watson (“Husband”) appeals fr...</td>\n",
       "    </tr>\n",
       "    <tr>\n",
       "      <th>1</th>\n",
       "      <td>31944</td>\n",
       "      <td>On Appeal</td>\n",
       "      <td>facts</td>\n",
       "      <td>Husband and Wife were married in November 1989...</td>\n",
       "    </tr>\n",
       "    <tr>\n",
       "      <th>2</th>\n",
       "      <td>31944</td>\n",
       "      <td>On Appeal</td>\n",
       "      <td>reasoning/analysis</td>\n",
       "      <td>Husband argues that the trial court erred in v...</td>\n",
       "    </tr>\n",
       "    <tr>\n",
       "      <th>3</th>\n",
       "      <td>31944</td>\n",
       "      <td>On Appeal</td>\n",
       "      <td>issues</td>\n",
       "      <td>Although Husband does not clearly identify an ...</td>\n",
       "    </tr>\n",
       "    <tr>\n",
       "      <th>4</th>\n",
       "      <td>31944</td>\n",
       "      <td>On Appeal</td>\n",
       "      <td>other</td>\n",
       "      <td>Husband contends that the trial court’s findin...</td>\n",
       "    </tr>\n",
       "    <tr>\n",
       "      <th>...</th>\n",
       "      <td>...</td>\n",
       "      <td>...</td>\n",
       "      <td>...</td>\n",
       "      <td>...</td>\n",
       "    </tr>\n",
       "    <tr>\n",
       "      <th>39924</th>\n",
       "      <td>39930</td>\n",
       "      <td>Motion to Compel Arbitration</td>\n",
       "      <td>other</td>\n",
       "      <td>Because Romero’s STELA claim is governed by th...</td>\n",
       "    </tr>\n",
       "    <tr>\n",
       "      <th>39925</th>\n",
       "      <td>39931</td>\n",
       "      <td>Motion for Attorney's Fees</td>\n",
       "      <td>other</td>\n",
       "      <td>The legal question at the core of this appeal ...</td>\n",
       "    </tr>\n",
       "    <tr>\n",
       "      <th>39926</th>\n",
       "      <td>39932</td>\n",
       "      <td>Motion to Dismiss</td>\n",
       "      <td>other</td>\n",
       "      <td>Order and judgment (one paper), Supreme Court,...</td>\n",
       "    </tr>\n",
       "    <tr>\n",
       "      <th>39927</th>\n",
       "      <td>39933</td>\n",
       "      <td>Motion for Relief from Order or Judgment</td>\n",
       "      <td>other</td>\n",
       "      <td>U.S. Bank National Association (USBNA) appeals...</td>\n",
       "    </tr>\n",
       "    <tr>\n",
       "      <th>39928</th>\n",
       "      <td>39934</td>\n",
       "      <td>Motion for Default Judgment/Order of Default</td>\n",
       "      <td>other</td>\n",
       "      <td>In an action to foreclose a mortgage, the defe...</td>\n",
       "    </tr>\n",
       "  </tbody>\n",
       "</table>\n",
       "<p>39929 rows × 4 columns</p>\n",
       "</div>"
      ],
      "text/plain": [
       "       DocumentId                                      Postures  \\\n",
       "0           31944                                     On Appeal   \n",
       "1           31944                                     On Appeal   \n",
       "2           31944                                     On Appeal   \n",
       "3           31944                                     On Appeal   \n",
       "4           31944                                     On Appeal   \n",
       "...           ...                                           ...   \n",
       "39924       39930                  Motion to Compel Arbitration   \n",
       "39925       39931                    Motion for Attorney's Fees   \n",
       "39926       39932                             Motion to Dismiss   \n",
       "39927       39933      Motion for Relief from Order or Judgment   \n",
       "39928       39934  Motion for Default Judgment/Order of Default   \n",
       "\n",
       "                 HeadText                                          Paragraph  \n",
       "0                   other  Plaintiff Dwight Watson (“Husband”) appeals fr...  \n",
       "1                   facts  Husband and Wife were married in November 1989...  \n",
       "2      reasoning/analysis  Husband argues that the trial court erred in v...  \n",
       "3                  issues  Although Husband does not clearly identify an ...  \n",
       "4                   other  Husband contends that the trial court’s findin...  \n",
       "...                   ...                                                ...  \n",
       "39924               other  Because Romero’s STELA claim is governed by th...  \n",
       "39925               other  The legal question at the core of this appeal ...  \n",
       "39926               other  Order and judgment (one paper), Supreme Court,...  \n",
       "39927               other  U.S. Bank National Association (USBNA) appeals...  \n",
       "39928               other  In an action to foreclose a mortgage, the defe...  \n",
       "\n",
       "[39929 rows x 4 columns]"
      ]
     },
     "execution_count": 45,
     "metadata": {},
     "output_type": "execute_result"
    }
   ],
   "source": [
    "legal_df_copy"
   ]
  },
  {
   "cell_type": "code",
   "execution_count": 46,
   "id": "aac1800b",
   "metadata": {},
   "outputs": [],
   "source": [
    "out_file = legal_df_copy.to_csv('cleaned_legal_case.csv',mode = 'w')"
   ]
  },
  {
   "cell_type": "markdown",
   "id": "16444a29",
   "metadata": {},
   "source": [
    "## 2. Data Exploration"
   ]
  },
  {
   "cell_type": "code",
   "execution_count": 47,
   "id": "d6cde875",
   "metadata": {},
   "outputs": [
    {
     "data": {
      "text/plain": [
       "other                 28761\n",
       "facts                  3245\n",
       "oder and decision      2435\n",
       "reasoning/analysis     2216\n",
       "issues                 1322\n",
       "rules                  1131\n",
       "procedural history      819\n",
       "Name: HeadText, dtype: int64"
      ]
     },
     "execution_count": 47,
     "metadata": {},
     "output_type": "execute_result"
    }
   ],
   "source": [
    "legal_df_copy.HeadText.value_counts()"
   ]
  },
  {
   "cell_type": "code",
   "execution_count": 48,
   "id": "1c73f375",
   "metadata": {},
   "outputs": [
    {
     "data": {
      "text/plain": [
       "other                 0.720304\n",
       "facts                 0.081269\n",
       "oder and decision     0.060983\n",
       "reasoning/analysis    0.055499\n",
       "issues                0.033109\n",
       "rules                 0.028325\n",
       "procedural history    0.020511\n",
       "Name: HeadText, dtype: float64"
      ]
     },
     "execution_count": 48,
     "metadata": {},
     "output_type": "execute_result"
    }
   ],
   "source": [
    "#explore the labels in dataset\n",
    "legal_df_copy.HeadText.value_counts(normalize=True)"
   ]
  }
 ],
 "metadata": {
  "kernelspec": {
   "display_name": "Python 3 (ipykernel)",
   "language": "python",
   "name": "python3"
  },
  "language_info": {
   "codemirror_mode": {
    "name": "ipython",
    "version": 3
   },
   "file_extension": ".py",
   "mimetype": "text/x-python",
   "name": "python",
   "nbconvert_exporter": "python",
   "pygments_lexer": "ipython3",
   "version": "3.9.12"
  },
  "vscode": {
   "interpreter": {
    "hash": "7ede72037418af02097339ca9e468f69a4cebe3032ebf60293100c7fb47fcaf2"
   }
  }
 },
 "nbformat": 4,
 "nbformat_minor": 5
}
